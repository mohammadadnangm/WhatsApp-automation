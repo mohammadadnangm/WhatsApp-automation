pip install pywhatkit
import pywhatkit as kit
number = '+923444213456'
kit.sendwhatmsg(number, 'message here', 24, 60, 60,)
